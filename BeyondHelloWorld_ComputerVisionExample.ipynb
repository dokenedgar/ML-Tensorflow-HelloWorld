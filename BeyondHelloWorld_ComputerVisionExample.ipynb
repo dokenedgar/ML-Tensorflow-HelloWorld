{
  "nbformat": 4,
  "nbformat_minor": 0,
  "metadata": {
    "colab": {
      "name": "BeyondHelloWorld-ComputerVisionExample.ipynb",
      "provenance": [],
      "authorship_tag": "ABX9TyMwL9pZlmZNwBOcmc0Lrq2i",
      "include_colab_link": true
    },
    "kernelspec": {
      "name": "python3",
      "display_name": "Python 3"
    }
  },
  "cells": [
    {
      "cell_type": "markdown",
      "metadata": {
        "id": "view-in-github",
        "colab_type": "text"
      },
      "source": [
        "<a href=\"https://colab.research.google.com/github/dokenedgar/ML-Tensorflow-HelloWorld/blob/main/BeyondHelloWorld_ComputerVisionExample.ipynb\" target=\"_parent\"><img src=\"https://colab.research.google.com/assets/colab-badge.svg\" alt=\"Open In Colab\"/></a>"
      ]
    },
    {
      "cell_type": "code",
      "metadata": {
        "colab": {
          "base_uri": "https://localhost:8080/"
        },
        "id": "CNUo2N4gnyYt",
        "outputId": "8d487034-23ea-4c0b-a539-ee96052bb0ca"
      },
      "source": [
        "import tensorflow as tf\n",
        "\n",
        "class myCallback(tf.keras.callbacks.Callback):\n",
        "  def on_epoch_end(self, epoch, logs={}):\n",
        "    if(logs.get('accuracy') > 0.85):\n",
        "      print(\"\\nReached 90% accuracy, so cancelling!\")\n",
        "      self.model.stop_training = True\n",
        "\n",
        "callbacks = myCallback()\n",
        "\n",
        "mnist = tf.keras.datasets.fashion_mnist\n",
        "\n",
        "(training_images, training_labels), (test_images, test_labels) = mnist.load_data()\n",
        "\n",
        "training_images = training_images / 255.0\n",
        "test_images = test_images / 255.0\n",
        "\n",
        "model = tf.keras.models.Sequential([tf.keras.layers.Flatten(),\n",
        "                                    tf.keras.layers.Dense(512, activation=tf.nn.relu),\n",
        "                                    tf.keras.layers.Dense(10, activation=tf.nn.softmax)\n",
        "                                    ])\n",
        "model.compile(optimizer = 'adam',\n",
        "              loss = 'sparse_categorical_crossentropy',\n",
        "              metrics=['accuracy']\n",
        "              )\n",
        "\n",
        "model.fit(training_images, training_labels, epochs=5, callbacks=[callbacks])\n",
        "model.evaluate(test_images, test_labels)\n",
        "\n",
        "classifications = model.predict(test_images)\n",
        "print(classifications[30])\n",
        "print(test_labels[30])"
      ],
      "execution_count": 19,
      "outputs": [
        {
          "output_type": "stream",
          "text": [
            "Epoch 1/5\n",
            "1875/1875 [==============================] - 7s 3ms/step - loss: 0.4770 - accuracy: 0.8296\n",
            "Epoch 2/5\n",
            "1869/1875 [============================>.] - ETA: 0s - loss: 0.3554 - accuracy: 0.8699\n",
            "Reached 90% accuracy, so cancelling!\n",
            "1875/1875 [==============================] - 7s 3ms/step - loss: 0.3556 - accuracy: 0.8698\n",
            "313/313 [==============================] - 1s 2ms/step - loss: 0.3711 - accuracy: 0.8625\n",
            "[3.6040220e-08 3.2653800e-11 2.3371742e-09 7.0776265e-09 2.3684978e-09\n",
            " 6.6609275e-08 1.3115244e-08 2.5982192e-07 9.9999964e-01 1.0846007e-09]\n",
            "8\n"
          ],
          "name": "stdout"
        }
      ]
    }
  ]
}